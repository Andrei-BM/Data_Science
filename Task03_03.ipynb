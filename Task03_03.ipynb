{
 "cells": [
  {
   "cell_type": "code",
   "execution_count": 1,
   "id": "bde7d86e",
   "metadata": {},
   "outputs": [],
   "source": [
    "import numpy as np\n",
    "import pandas as pd"
   ]
  },
  {
   "cell_type": "markdown",
   "id": "358256f7",
   "metadata": {},
   "source": [
    "#### №10"
   ]
  },
  {
   "cell_type": "code",
   "execution_count": 42,
   "id": "93ff2d40",
   "metadata": {},
   "outputs": [],
   "source": [
    "np.random.seed(seed=42)"
   ]
  },
  {
   "cell_type": "markdown",
   "id": "c2afc5d8",
   "metadata": {},
   "source": [
    "#### №11"
   ]
  },
  {
   "cell_type": "code",
   "execution_count": 39,
   "id": "a097ccb3",
   "metadata": {},
   "outputs": [
    {
     "data": {
      "text/plain": [
       "array([ 1,  0, 15,  6,  6, 13,  7,  4,  2, 11,  7,  5, 10,  2,  0,  2])"
      ]
     },
     "execution_count": 39,
     "metadata": {},
     "output_type": "execute_result"
    }
   ],
   "source": [
    "eggs = np.random.randint(0, 16, 16)\n",
    "eggs"
   ]
  },
  {
   "cell_type": "markdown",
   "id": "58140725",
   "metadata": {},
   "source": [
    "#### №12"
   ]
  },
  {
   "cell_type": "code",
   "execution_count": 44,
   "id": "d866c12b",
   "metadata": {},
   "outputs": [
    {
     "data": {
      "text/plain": [
       "array([[ 1,  0, 15,  6],\n",
       "       [ 6, 13,  7,  4],\n",
       "       [ 2, 11,  7,  5],\n",
       "       [10,  2,  0,  2]])"
      ]
     },
     "execution_count": 44,
     "metadata": {},
     "output_type": "execute_result"
    }
   ],
   "source": [
    "C = eggs.reshape(4, 4)\n",
    "C "
   ]
  },
  {
   "cell_type": "code",
   "execution_count": 46,
   "id": "db5d0ff0",
   "metadata": {},
   "outputs": [
    {
     "data": {
      "text/plain": [
       "array([[ 10,   0, 150,  60],\n",
       "       [ 60, 130,  70,  40],\n",
       "       [ 20, 110,  70,  50],\n",
       "       [100,  20,   0,  20]])"
      ]
     },
     "execution_count": 46,
     "metadata": {},
     "output_type": "execute_result"
    }
   ],
   "source": [
    "C = C.dot(10)\n",
    "C"
   ]
  },
  {
   "cell_type": "code",
   "execution_count": 47,
   "id": "220d3ca3",
   "metadata": {},
   "outputs": [
    {
     "data": {
      "text/plain": [
       "array([[  5,  14,  23,  32],\n",
       "       [ 14,  50,  86, 122],\n",
       "       [ 23,  86, 149, 212],\n",
       "       [ 32, 122, 212, 302]])"
      ]
     },
     "execution_count": 47,
     "metadata": {},
     "output_type": "execute_result"
    }
   ],
   "source": [
    "B = np.array([[  5,  14,  23,  32],\n",
    "       [ 14,  50,  86, 122],\n",
    "       [ 23,  86, 149, 212],\n",
    "       [ 32, 122, 212, 302]])\n",
    "B"
   ]
  },
  {
   "cell_type": "code",
   "execution_count": 49,
   "id": "baa693ed",
   "metadata": {},
   "outputs": [
    {
     "data": {
      "text/plain": [
       "array([[ 15,  14, 173,  92],\n",
       "       [ 74, 180, 156, 162],\n",
       "       [ 43, 196, 219, 262],\n",
       "       [132, 142, 212, 322]])"
      ]
     },
     "execution_count": 49,
     "metadata": {},
     "output_type": "execute_result"
    }
   ],
   "source": [
    "D = np.add(B, C)\n",
    "D"
   ]
  },
  {
   "cell_type": "code",
   "execution_count": 54,
   "id": "e929d4cc",
   "metadata": {},
   "outputs": [
    {
     "data": {
      "text/plain": [
       "(297540599.99999994, 4)"
      ]
     },
     "execution_count": 54,
     "metadata": {},
     "output_type": "execute_result"
    }
   ],
   "source": [
    "np.linalg.det(D), np.linalg.matrix_rank(D)"
   ]
  },
  {
   "cell_type": "code",
   "execution_count": 56,
   "id": "dc172b65",
   "metadata": {},
   "outputs": [],
   "source": [
    "D_inv = np.linalg.inv(D)"
   ]
  },
  {
   "cell_type": "code",
   "execution_count": 59,
   "id": "1a6b3a35",
   "metadata": {},
   "outputs": [
    {
     "data": {
      "text/plain": [
       "array([[ 0.00116697,  0.01112682, -0.01462731,  0.00597034],\n",
       "       [-0.00382099,  0.00669294,  0.00213638, -0.00401384],\n",
       "       [ 0.00822725,  0.0038298 , -0.00245029, -0.00228372],\n",
       "       [-0.00421005, -0.01003433,  0.00666739,  0.00393177]])"
      ]
     },
     "execution_count": 59,
     "metadata": {},
     "output_type": "execute_result"
    }
   ],
   "source": [
    "D_inv"
   ]
  },
  {
   "cell_type": "markdown",
   "id": "c730b438",
   "metadata": {},
   "source": [
    "#### №13"
   ]
  },
  {
   "cell_type": "code",
   "execution_count": 68,
   "id": "1d777082",
   "metadata": {},
   "outputs": [
    {
     "data": {
      "text/plain": [
       "array([[1, 1, 1, 1],\n",
       "       [1, 1, 1, 1],\n",
       "       [1, 1, 1, 1],\n",
       "       [1, 1, 1, 1]])"
      ]
     },
     "execution_count": 68,
     "metadata": {},
     "output_type": "execute_result"
    }
   ],
   "source": [
    "D_inv = np.where(D_inv < 0, 0, 1)\n",
    "D_inv"
   ]
  },
  {
   "cell_type": "code",
   "execution_count": 67,
   "id": "83317098",
   "metadata": {},
   "outputs": [
    {
     "data": {
      "text/plain": [
       "array([[  5,  14, 150,  32],\n",
       "       [ 60,  50,  86,  40],\n",
       "       [ 23,  86,  70,  50],\n",
       "       [100,  20, 212, 302]])"
      ]
     },
     "execution_count": 67,
     "metadata": {},
     "output_type": "execute_result"
    }
   ],
   "source": [
    "E = np.where(D_inv == 0, C, B)\n",
    "E"
   ]
  },
  {
   "cell_type": "code",
   "execution_count": null,
   "id": "866a1dc0",
   "metadata": {},
   "outputs": [],
   "source": []
  }
 ],
 "metadata": {
  "kernelspec": {
   "display_name": "Python 3 (ipykernel)",
   "language": "python",
   "name": "python3"
  },
  "language_info": {
   "codemirror_mode": {
    "name": "ipython",
    "version": 3
   },
   "file_extension": ".py",
   "mimetype": "text/x-python",
   "name": "python",
   "nbconvert_exporter": "python",
   "pygments_lexer": "ipython3",
   "version": "3.9.12"
  }
 },
 "nbformat": 4,
 "nbformat_minor": 5
}
